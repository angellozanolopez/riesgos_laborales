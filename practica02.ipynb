{
  "cells": [
    {
      "cell_type": "markdown",
      "metadata": {},
      "source": [
        "**PASO 1. PREPARACION DE DATOS**"
      ]
    },
    {
      "cell_type": "code",
      "execution_count": 2,
      "metadata": {},
      "outputs": [],
      "source": [
        "# Importar librerias\n",
        "import pandas as pd\n",
        "import matplotlib.pyplot as plt\n",
        "from sklearn.metrics.pairwise import cosine_similarity\n",
        "import numpy as np"
      ]
    },
    {
      "cell_type": "code",
      "execution_count": 3,
      "metadata": {},
      "outputs": [],
      "source": [
        "# Cargar los datos en un DataFrame\n",
        "data = pd.read_excel(\"riesgos_dataset.xlsx\")"
      ]
    },
    {
      "cell_type": "code",
      "execution_count": 4,
      "metadata": {},
      "outputs": [
        {
          "name": "stdout",
          "output_type": "stream",
          "text": [
            "El DataFrame tiene 252857 filas y 14 columnas.\n"
          ]
        }
      ],
      "source": [
        "# ¿CUANTAS FILAS Y COLUMNAS HAY EN EL DATASET COMPLETO?\n",
        "num_filas, num_columnas = data.shape\n",
        "# Imprimir el resultado\n",
        "print(f\"El DataFrame tiene {num_filas} filas y {num_columnas} columnas.\")"
      ]
    },
    {
      "cell_type": "code",
      "execution_count": 5,
      "metadata": {},
      "outputs": [
        {
          "data": {
            "text/html": [
              "<div>\n",
              "<style scoped>\n",
              "    .dataframe tbody tr th:only-of-type {\n",
              "        vertical-align: middle;\n",
              "    }\n",
              "\n",
              "    .dataframe tbody tr th {\n",
              "        vertical-align: top;\n",
              "    }\n",
              "\n",
              "    .dataframe thead th {\n",
              "        text-align: right;\n",
              "    }\n",
              "</style>\n",
              "<table border=\"1\" class=\"dataframe\">\n",
              "  <thead>\n",
              "    <tr style=\"text-align: right;\">\n",
              "      <th></th>\n",
              "      <th>ixRiesgo</th>\n",
              "      <th>sAnalisis</th>\n",
              "    </tr>\n",
              "  </thead>\n",
              "  <tbody>\n",
              "    <tr>\n",
              "      <th>0</th>\n",
              "      <td>1</td>\n",
              "      <td>Accidentes de circulación durante la jornada l...</td>\n",
              "    </tr>\n",
              "    <tr>\n",
              "      <th>1</th>\n",
              "      <td>2</td>\n",
              "      <td>Trabajos que implican el trato con personas aj...</td>\n",
              "    </tr>\n",
              "    <tr>\n",
              "      <th>2</th>\n",
              "      <td>3</td>\n",
              "      <td>Atrapamiento por o entre objetos</td>\n",
              "    </tr>\n",
              "    <tr>\n",
              "      <th>3</th>\n",
              "      <td>4</td>\n",
              "      <td>Atrapamiento por elementos móviles de equipos</td>\n",
              "    </tr>\n",
              "    <tr>\n",
              "      <th>4</th>\n",
              "      <td>5</td>\n",
              "      <td>Atrapamiento por vuelco de máquinas o vehículos</td>\n",
              "    </tr>\n",
              "    <tr>\n",
              "      <th>5</th>\n",
              "      <td>6</td>\n",
              "      <td>Atropellos o golpes con vehículos</td>\n",
              "    </tr>\n",
              "  </tbody>\n",
              "</table>\n",
              "</div>"
            ],
            "text/plain": [
              "   ixRiesgo                                          sAnalisis\n",
              "0         1  Accidentes de circulación durante la jornada l...\n",
              "1         2  Trabajos que implican el trato con personas aj...\n",
              "2         3                   Atrapamiento por o entre objetos\n",
              "3         4      Atrapamiento por elementos móviles de equipos\n",
              "4         5    Atrapamiento por vuelco de máquinas o vehículos\n",
              "5         6                  Atropellos o golpes con vehículos"
            ]
          },
          "execution_count": 5,
          "metadata": {},
          "output_type": "execute_result"
        }
      ],
      "source": [
        "# DEL DF ORIGINAL EXTRAEMOS TODAS LAS ETIQUETAS DE RIESGOS\n",
        "# De esta forma sabremos a que se corresponde cada riesgo\n",
        "data_etiq_ixRiesgo = data[['ixRiesgo', 'sAnalisis']].copy()\n",
        "data_etiq_ixRiesgo.drop_duplicates(subset=['ixRiesgo'], inplace=True)\n",
        "data_etiq_ixRiesgo = data_etiq_ixRiesgo.sort_values(by='ixRiesgo')\n",
        "data_etiq_ixRiesgo.reset_index(drop=True, inplace=True)\n",
        "data_etiq_ixRiesgo.head(6)"
      ]
    },
    {
      "cell_type": "code",
      "execution_count": 6,
      "metadata": {},
      "outputs": [
        {
          "data": {
            "text/html": [
              "<div>\n",
              "<style scoped>\n",
              "    .dataframe tbody tr th:only-of-type {\n",
              "        vertical-align: middle;\n",
              "    }\n",
              "\n",
              "    .dataframe tbody tr th {\n",
              "        vertical-align: top;\n",
              "    }\n",
              "\n",
              "    .dataframe thead th {\n",
              "        text-align: right;\n",
              "    }\n",
              "</style>\n",
              "<table border=\"1\" class=\"dataframe\">\n",
              "  <thead>\n",
              "    <tr style=\"text-align: right;\">\n",
              "      <th></th>\n",
              "      <th>nSectorEmp</th>\n",
              "      <th>sectorEmpresa</th>\n",
              "    </tr>\n",
              "  </thead>\n",
              "  <tbody>\n",
              "    <tr>\n",
              "      <th>0</th>\n",
              "      <td>1</td>\n",
              "      <td>Oficinas y despachos</td>\n",
              "    </tr>\n",
              "    <tr>\n",
              "      <th>1</th>\n",
              "      <td>2</td>\n",
              "      <td>Construcción</td>\n",
              "    </tr>\n",
              "    <tr>\n",
              "      <th>2</th>\n",
              "      <td>4</td>\n",
              "      <td>Industria y diversos</td>\n",
              "    </tr>\n",
              "    <tr>\n",
              "      <th>3</th>\n",
              "      <td>5</td>\n",
              "      <td>Centros Sanitarios</td>\n",
              "    </tr>\n",
              "    <tr>\n",
              "      <th>4</th>\n",
              "      <td>6</td>\n",
              "      <td>Transporte</td>\n",
              "    </tr>\n",
              "    <tr>\n",
              "      <th>5</th>\n",
              "      <td>7</td>\n",
              "      <td>Centros Educativos</td>\n",
              "    </tr>\n",
              "    <tr>\n",
              "      <th>6</th>\n",
              "      <td>8</td>\n",
              "      <td>Mantenimiento Industrial</td>\n",
              "    </tr>\n",
              "    <tr>\n",
              "      <th>7</th>\n",
              "      <td>9</td>\n",
              "      <td>Hostelería</td>\n",
              "    </tr>\n",
              "    <tr>\n",
              "      <th>8</th>\n",
              "      <td>10</td>\n",
              "      <td>Otros</td>\n",
              "    </tr>\n",
              "    <tr>\n",
              "      <th>9</th>\n",
              "      <td>11</td>\n",
              "      <td>Servicios</td>\n",
              "    </tr>\n",
              "    <tr>\n",
              "      <th>10</th>\n",
              "      <td>12</td>\n",
              "      <td>Sector Metal</td>\n",
              "    </tr>\n",
              "  </tbody>\n",
              "</table>\n",
              "</div>"
            ],
            "text/plain": [
              "    nSectorEmp             sectorEmpresa\n",
              "0            1      Oficinas y despachos\n",
              "1            2              Construcción\n",
              "2            4      Industria y diversos\n",
              "3            5        Centros Sanitarios\n",
              "4            6                Transporte\n",
              "5            7        Centros Educativos\n",
              "6            8  Mantenimiento Industrial\n",
              "7            9                Hostelería\n",
              "8           10                     Otros\n",
              "9           11                 Servicios\n",
              "10          12              Sector Metal"
            ]
          },
          "execution_count": 6,
          "metadata": {},
          "output_type": "execute_result"
        }
      ],
      "source": [
        "# AL IGUAL QUE EL ANTERIOR EXTRAEMOS TODAS LAS ETIQUETAS DEL SECTOR\n",
        "data_etiq_sector = data[['nSectorEmp', 'sectorEmpresa']].copy()\n",
        "data_etiq_sector.drop_duplicates(subset=['nSectorEmp'], inplace=True)\n",
        "data_etiq_sector['sectorEmpresa'] = data_etiq_sector['sectorEmpresa'].str.replace(r'^\\d+\\.\\s', '', regex=True)\n",
        "data_etiq_sector = data_etiq_sector.sort_values(by='nSectorEmp')\n",
        "data_etiq_sector.reset_index(drop=True, inplace=True)\n",
        "data_etiq_sector"
      ]
    },
    {
      "cell_type": "code",
      "execution_count": 7,
      "metadata": {},
      "outputs": [
        {
          "name": "stdout",
          "output_type": "stream",
          "text": [
            "Quemaduras por contacto con superficies calientes, superficies frías, llama, etc.\n"
          ]
        }
      ],
      "source": [
        "# FUNCION PARA SABER QUE SIGNIFICADO TIENE CADA RIESGO\n",
        "def obtener_etiq_ixRiesgo(valor_ixRiesgo):\n",
        "    # Buscar el sAnalisis correspondiente a ixRiesgo\n",
        "    etiqueta = data_etiq_ixRiesgo[data_etiq_ixRiesgo['ixRiesgo'] == valor_ixRiesgo]['sAnalisis'].values\n",
        "    if len(etiqueta) > 0:\n",
        "        return etiqueta[0]\n",
        "    else:\n",
        "        return \"Etiqueta no encontrada\"  # En caso de que ixRiesgo no exista\n",
        "\n",
        "# Ejemplo de uso:\n",
        "etiqueta = obtener_etiq_ixRiesgo(104)\n",
        "print(etiqueta)"
      ]
    },
    {
      "cell_type": "code",
      "execution_count": 8,
      "metadata": {},
      "outputs": [
        {
          "name": "stdout",
          "output_type": "stream",
          "text": [
            "Construcción\n"
          ]
        }
      ],
      "source": [
        "# FUNCION PARA OBTENER LA ETIQUETA DEL SECTOR\n",
        "def obtener_etiq_sector(sector):\n",
        "    # Buscar el sectorEmpresa correspondiente al número de sector\n",
        "    etiqueta = data_etiq_sector[data_etiq_sector['nSectorEmp'] == sector]['sectorEmpresa'].values\n",
        "    if len(etiqueta) > 0:\n",
        "        # Eliminar el número y el punto y devolver solo el texto\n",
        "        return etiqueta[0]\n",
        "    else:\n",
        "        return \"Sector no encontrado\"  # En caso de que el sector no exista\n",
        "\n",
        "# Ejemplo de uso:\n",
        "sector_texto = obtener_etiq_sector(2)  \n",
        "print(sector_texto)"
      ]
    },
    {
      "cell_type": "code",
      "execution_count": 9,
      "metadata": {},
      "outputs": [],
      "source": [
        "# UNA VEZ TENEMOS LAS ETIQUETAS DE RIESGO Y DEL SECTOR \n",
        "# COMENZAMOS A DEPURAR EL DATAFRAME ORIGINAL\n",
        "\n",
        "# ELIMINAR COLUMNAS SOBRANTES\n",
        "# Seleccionamos las columnas que deseamos, el resto las eliminamos\n",
        "columnas_deseadas = ['nSectorEmp', 'sCodCliente', 'idEvaluacion', 'ixRiesgo', 'ixPuesto', 'ixFuenteRL']\n",
        "# Seleccionar solo las columnas deseadas\n",
        "data = data[columnas_deseadas]\n",
        "# El DataFrame ahora contiene solo las columnas deseadas"
      ]
    },
    {
      "cell_type": "code",
      "execution_count": 10,
      "metadata": {},
      "outputs": [
        {
          "name": "stdout",
          "output_type": "stream",
          "text": [
            "El DataFrame tiene 252857 filas y 6 columnas.\n"
          ]
        }
      ],
      "source": [
        "# VOLVEMOS A COMPROBAR EL TAMAÑO DEL DATAFRAME\n",
        "# Comprobaremos que hemos pasado de 14 columnas a 6 columnas\n",
        "num_filas, num_columnas = data.shape\n",
        "# Imprimir el resultado\n",
        "print(f\"El DataFrame tiene {num_filas} filas y {num_columnas} columnas.\")"
      ]
    },
    {
      "cell_type": "code",
      "execution_count": 11,
      "metadata": {},
      "outputs": [
        {
          "name": "stdout",
          "output_type": "stream",
          "text": [
            "El DataFrame tiene 127289 filas duplicadas.\n"
          ]
        }
      ],
      "source": [
        "# CONTEO DE DUPLICADOS\n",
        "# Comprobaremos que mas de la mitad son duplicados \n",
        "num_duplicados = data.duplicated().sum()\n",
        "# Imprimir el resultado\n",
        "print(f\"El DataFrame tiene {num_duplicados} filas duplicadas.\")"
      ]
    },
    {
      "cell_type": "code",
      "execution_count": 12,
      "metadata": {},
      "outputs": [],
      "source": [
        "# ELIMINAMOS LOS DUPLICADOS\n",
        "data = data.drop_duplicates(subset=columnas_deseadas, keep='first')"
      ]
    },
    {
      "cell_type": "code",
      "execution_count": 13,
      "metadata": {},
      "outputs": [
        {
          "name": "stdout",
          "output_type": "stream",
          "text": [
            "El DataFrame tiene 125568 filas y 6 columnas.\n"
          ]
        }
      ],
      "source": [
        "# VOLVEMOS A COMPROBAR EL TAMAÑO DEL DATAFRAME\n",
        "num_filas, num_columnas = data.shape\n",
        "# Imprimir el resultado\n",
        "print(f\"El DataFrame tiene {num_filas} filas y {num_columnas} columnas.\")"
      ]
    },
    {
      "cell_type": "code",
      "execution_count": 14,
      "metadata": {},
      "outputs": [
        {
          "name": "stdout",
          "output_type": "stream",
          "text": [
            "nSectorEmp      0\n",
            "sCodCliente     0\n",
            "idEvaluacion    0\n",
            "ixRiesgo        0\n",
            "ixPuesto        0\n",
            "ixFuenteRL      0\n",
            "dtype: int64\n"
          ]
        }
      ],
      "source": [
        "# VERIFICACION DE VALORES FALTANTES\n",
        "missing_values = data.isnull().sum()\n",
        "print(missing_values)"
      ]
    },
    {
      "cell_type": "code",
      "execution_count": 15,
      "metadata": {},
      "outputs": [
        {
          "data": {
            "text/html": [
              "<div>\n",
              "<style scoped>\n",
              "    .dataframe tbody tr th:only-of-type {\n",
              "        vertical-align: middle;\n",
              "    }\n",
              "\n",
              "    .dataframe tbody tr th {\n",
              "        vertical-align: top;\n",
              "    }\n",
              "\n",
              "    .dataframe thead th {\n",
              "        text-align: right;\n",
              "    }\n",
              "</style>\n",
              "<table border=\"1\" class=\"dataframe\">\n",
              "  <thead>\n",
              "    <tr style=\"text-align: right;\">\n",
              "      <th></th>\n",
              "      <th>nSectorEmp</th>\n",
              "      <th>sCodCliente</th>\n",
              "      <th>idEvaluacion</th>\n",
              "      <th>ixRiesgo</th>\n",
              "      <th>ixPuesto</th>\n",
              "      <th>ixFuenteRL</th>\n",
              "    </tr>\n",
              "  </thead>\n",
              "  <tbody>\n",
              "    <tr>\n",
              "      <th>0</th>\n",
              "      <td>2</td>\n",
              "      <td>3</td>\n",
              "      <td>2</td>\n",
              "      <td>1</td>\n",
              "      <td>1</td>\n",
              "      <td>0</td>\n",
              "    </tr>\n",
              "    <tr>\n",
              "      <th>1</th>\n",
              "      <td>2</td>\n",
              "      <td>3</td>\n",
              "      <td>2</td>\n",
              "      <td>2</td>\n",
              "      <td>1</td>\n",
              "      <td>0</td>\n",
              "    </tr>\n",
              "    <tr>\n",
              "      <th>2</th>\n",
              "      <td>2</td>\n",
              "      <td>3</td>\n",
              "      <td>2</td>\n",
              "      <td>2</td>\n",
              "      <td>2</td>\n",
              "      <td>0</td>\n",
              "    </tr>\n",
              "    <tr>\n",
              "      <th>3</th>\n",
              "      <td>2</td>\n",
              "      <td>3</td>\n",
              "      <td>2</td>\n",
              "      <td>3</td>\n",
              "      <td>2</td>\n",
              "      <td>0</td>\n",
              "    </tr>\n",
              "    <tr>\n",
              "      <th>4</th>\n",
              "      <td>2</td>\n",
              "      <td>3</td>\n",
              "      <td>2</td>\n",
              "      <td>5</td>\n",
              "      <td>2</td>\n",
              "      <td>0</td>\n",
              "    </tr>\n",
              "  </tbody>\n",
              "</table>\n",
              "</div>"
            ],
            "text/plain": [
              "   nSectorEmp sCodCliente  idEvaluacion  ixRiesgo  ixPuesto  ixFuenteRL\n",
              "0           2           3             2         1         1           0\n",
              "1           2           3             2         2         1           0\n",
              "2           2           3             2         2         2           0\n",
              "3           2           3             2         3         2           0\n",
              "4           2           3             2         5         2           0"
            ]
          },
          "execution_count": 15,
          "metadata": {},
          "output_type": "execute_result"
        }
      ],
      "source": [
        "# RESETEAMOS EL INDEX\n",
        "data = data.reset_index(drop=True)\n",
        "data.head()"
      ]
    },
    {
      "cell_type": "code",
      "execution_count": 16,
      "metadata": {},
      "outputs": [
        {
          "name": "stdout",
          "output_type": "stream",
          "text": [
            "Consulte el archivo riesgos_dataset_sin_duplicados.xlsx para ver el dataframe resultante\n"
          ]
        }
      ],
      "source": [
        "# ALMACENAR EL DATAFRAME RESULTANTE EN UN EXCEL\n",
        "# nombre_archivo = 'riesgos_dataset_sin_duplicados.xlsx'\n",
        "# sheet_name = 'mi_hoja'\n",
        "\n",
        "# data.to_excel(nombre_archivo, sheet_name=sheet_name, index=False)\n",
        "print(\"Consulte el archivo riesgos_dataset_sin_duplicados.xlsx para ver el dataframe resultante\")"
      ]
    },
    {
      "cell_type": "markdown",
      "metadata": {},
      "source": [
        "**PASO 2. ANALISIS DE DATOS Y EXTRACCION DE ESTADISTICAS**"
      ]
    },
    {
      "cell_type": "code",
      "execution_count": 17,
      "metadata": {},
      "outputs": [
        {
          "name": "stdout",
          "output_type": "stream",
          "text": [
            "El número de sectores distintos en el DataFrame es: 11\n"
          ]
        }
      ],
      "source": [
        "# 1. CUANTOS SECTORES APARECEN EN EL DATASET\n",
        "num_sectores = data['nSectorEmp'].nunique()\n",
        "print(f\"El número de sectores distintos en el DataFrame es: {num_sectores}\")"
      ]
    },
    {
      "cell_type": "code",
      "execution_count": 18,
      "metadata": {},
      "outputs": [
        {
          "name": "stdout",
          "output_type": "stream",
          "text": [
            "Sector 1: Oficinas y despachos\n",
            "Sector 2: Construcción\n",
            "Sector 4: Industria y diversos\n",
            "Sector 5: Centros Sanitarios\n",
            "Sector 6: Transporte\n",
            "Sector 7: Centros Educativos\n",
            "Sector 8: Mantenimiento Industrial\n",
            "Sector 9: Hostelería\n",
            "Sector 10: Otros\n",
            "Sector 11: Servicios\n",
            "Sector 12: Sector Metal\n"
          ]
        }
      ],
      "source": [
        "# 2. LISTAR TODOS LOS SECTORES\n",
        "sectores_unicos = data['nSectorEmp'].unique()\n",
        "sectores_unicos_ordenados = sorted(sectores_unicos)\n",
        "for elemento in sectores_unicos_ordenados:\n",
        "    sector = obtener_etiq_sector(elemento)\n",
        "    print(\"Sector {}: {}\".format(elemento, sector))"
      ]
    },
    {
      "cell_type": "code",
      "execution_count": 19,
      "metadata": {},
      "outputs": [
        {
          "name": "stdout",
          "output_type": "stream",
          "text": [
            "El número de clientes distintos en la base de datos es: 934\n"
          ]
        }
      ],
      "source": [
        "# 3. CUANTOS CLIENTES HAY EN LA BASE DE DATOS\n",
        "num_clientes = data['sCodCliente'].nunique()\n",
        "print(f\"El número de clientes distintos en la base de datos es: {num_clientes}\")"
      ]
    },
    {
      "cell_type": "code",
      "execution_count": 20,
      "metadata": {},
      "outputs": [
        {
          "name": "stdout",
          "output_type": "stream",
          "text": [
            "El número de tipos distintos de ixRiesgo es: 107\n"
          ]
        }
      ],
      "source": [
        "# 4. CUANTOS TIPOS DE RIESGO (ixRiesgo) HAY EN EL DATASET\n",
        "tipos_distintos_de_riesgo = data['ixRiesgo'].nunique()\n",
        "print(f\"El número de tipos distintos de ixRiesgo es: {tipos_distintos_de_riesgo}\")"
      ]
    },
    {
      "cell_type": "code",
      "execution_count": 21,
      "metadata": {},
      "outputs": [
        {
          "name": "stdout",
          "output_type": "stream",
          "text": [
            "Abrir archivo 'resultados_riesgos_por_cliente.xlsx' y filtrar por cliente\n",
            "\n"
          ]
        }
      ],
      "source": [
        "# 5. POR CADA CLIENTE, CUANTAS VECES APARECE CADA RIESGO\n",
        "# Aqui podemos consultar los riesgos que mas se repiten en cada cliente\n",
        "# en orden descendente\n",
        "print(\"Abrir archivo 'resultados_riesgos_por_cliente.xlsx' y filtrar por cliente\")\n",
        "print()\n",
        "# Creamos un df agrupando por cliente y riesgo, contamos los registros y reseteamos el index\n",
        "conteo_riesgo_por_cliente = data.groupby(['sCodCliente', 'ixRiesgo']).size().reset_index(name='conteo')\n",
        "\n",
        "# Ordenamos el resultado de mayor a menor. El riesgo que mas se repite, en primer lugar\n",
        "conteo_riesgo_por_cliente = conteo_riesgo_por_cliente.sort_values(by=['sCodCliente', 'conteo'], ascending=[True, False])\n",
        "\n",
        "# Crear una lista para almacenar los datos\n",
        "resultados = []\n",
        "\n",
        "# Recorremos todo el df y vamos obteniendo las etiquetas del riesgo\n",
        "for index, row in conteo_riesgo_por_cliente.iterrows():\n",
        "    cliente = row['sCodCliente']\n",
        "    riesgo = row['ixRiesgo']\n",
        "    conteo = row['conteo']\n",
        "    etiqueta = obtener_etiq_ixRiesgo(riesgo)\n",
        "    \n",
        "    # Agregar la información a la lista\n",
        "    resultados.append({'CLIENTE': cliente, 'RIESGO': etiqueta, 'VECES': conteo})\n",
        "\n",
        "    # Mostramos la informacion en pantalla\n",
        "    # print(f'Al cliente {cliente} el riesgo {riesgo}\\n{etiqueta}\\nle aparece {conteo} veces')\n",
        "    # print(\"\")\n",
        "\n",
        "# Y almacenamos los resultados en un df para poderlos pasar a una excel\n",
        "# resultados_df = pd.DataFrame(resultados)\n",
        "\n",
        "# Guardar el DataFrame de resultados en un archivo Excel\n",
        "# resultados_df.to_excel(\"resultados_riesgos_por_cliente.xlsx\", index=False)"
      ]
    },
    {
      "cell_type": "code",
      "execution_count": 22,
      "metadata": {},
      "outputs": [
        {
          "name": "stdout",
          "output_type": "stream",
          "text": [
            "sCodCliente\n",
            "0004        Caídas al mismo nivel por suelos resbaladizos ...\n",
            "0019                         Choches contra objetos inmóviles\n",
            "0020        Posible exposición, sea consciente o no, a con...\n",
            "0021        Tareas que implican ciclos de trabajo con movi...\n",
            "0022                            Contactos eléctricos directos\n",
            "                                  ...                        \n",
            "CAAEE005    Tareas que pueden ocasionar caídas a distinto ...\n",
            "CAAEE006    Tareas que pueden ocasionar caídas a distinto ...\n",
            "CAAEE007    Tareas que pueden ocasionar caídas a distinto ...\n",
            "CAAEE008    Tareas que pueden ocasionar caídas a distinto ...\n",
            "CAAEE009                        Contactos eléctricos directos\n",
            "Name: ixRiesgo, Length: 934, dtype: object\n"
          ]
        }
      ],
      "source": [
        "# 6. POR CADA CLIENTE ¿CUAL ES EL RIESGO QUE MAS SE REPITE?\n",
        "# Obtener el riesgo más común por cliente\n",
        "riesgo_mas_comun_por_cliente = data.groupby('sCodCliente')['ixRiesgo'].agg(lambda x: x.value_counts().idxmax())\n",
        "\n",
        "# Mapear los números a las etiquetas utilizando la función obtener_etiq_ixRiesgo\n",
        "riesgo_mas_comun_por_cliente = riesgo_mas_comun_por_cliente.map(obtener_etiq_ixRiesgo)\n",
        "\n",
        "# Imprimir el resultado\n",
        "print(riesgo_mas_comun_por_cliente)\n"
      ]
    },
    {
      "cell_type": "code",
      "execution_count": 23,
      "metadata": {},
      "outputs": [
        {
          "name": "stdout",
          "output_type": "stream",
          "text": [
            "Nº riesgos sector 1 Oficinas y despachos : 57\n",
            "Nº riesgos sector 2 Construcción : 66\n",
            "Nº riesgos sector 4 Industria y diversos : 77\n",
            "Nº riesgos sector 5 Centros Sanitarios : 50\n",
            "Nº riesgos sector 6 Transporte : 56\n",
            "Nº riesgos sector 7 Centros Educativos : 54\n",
            "Nº riesgos sector 8 Mantenimiento Industrial : 50\n",
            "Nº riesgos sector 9 Hostelería : 69\n",
            "Nº riesgos sector 10 Otros : 29\n",
            "Nº riesgos sector 11 Servicios : 81\n",
            "Nº riesgos sector 12 Sector Metal : 49\n"
          ]
        }
      ],
      "source": [
        "# 7. NUMERO DE RIESGOS EN CADA SECTOR\n",
        "# Recorremos todos los sectores\n",
        "for numero_sector in sectores_unicos_ordenados:\n",
        "\n",
        "    # Filtrar el DataFrame para obtener solo las filas correspondientes al sector deseado.\n",
        "    datos_sector = data[data['nSectorEmp'] == numero_sector]\n",
        "\n",
        "    # Agrupar por nSectorEmp e ixRiesgo y contar las ocurrencias\n",
        "    conteo_riesgos = datos_sector.groupby(['nSectorEmp', 'ixRiesgo']).size().reset_index(name='conteo')\n",
        "\n",
        "    # Lo almacenamos en un excel para analizarlo, ya que aqui la salida sale truncada\n",
        "    # conteo_riesgos.to_excel(\"riesgos_sector_{}.xlsx\".format(numero_sector), index=False)\n",
        "\n",
        "    sector = obtener_etiq_sector(numero_sector)\n",
        "\n",
        "    # Imprimir el resultado    \n",
        "    print(\"Nº riesgos sector\", numero_sector, sector,\":\", len(conteo_riesgos))        "
      ]
    },
    {
      "cell_type": "code",
      "execution_count": 24,
      "metadata": {},
      "outputs": [
        {
          "name": "stdout",
          "output_type": "stream",
          "text": [
            "     nSectorEmp  ixRiesgo  frecuencia\n",
            "32            1        78         354\n",
            "34            1        92         344\n",
            "42            1       154         334\n",
            "27            1        66         331\n",
            "11            1        24         329\n",
            "..          ...       ...         ...\n",
            "616          12        71           3\n",
            "632          12       255           3\n",
            "633          12       257           3\n",
            "637          12       261           3\n",
            "636          12       260           2\n",
            "\n",
            "[638 rows x 3 columns]\n"
          ]
        }
      ],
      "source": [
        "# 8.1. RIESGOS MAS FRECUENTES EN CADA SECTOR (FORMATO EXCEL)\n",
        "# Agrupar por sector y riesgo y contar la frecuencia\n",
        "frecuencia_riesgos_por_sector = data.groupby(['nSectorEmp', 'ixRiesgo']).size().reset_index(name='frecuencia')\n",
        "\n",
        "# Ordenar los datos por sector y frecuencia\n",
        "frecuencia_riesgos_ordenados = frecuencia_riesgos_por_sector.sort_values(by=['nSectorEmp', 'frecuencia'], ascending=[True, False])\n",
        "\n",
        "# Mostrar el DataFrame ordenado\n",
        "print(frecuencia_riesgos_ordenados)\n",
        "# Exportamos a excel\n",
        "# frecuencia_riesgos_ordenados.to_excel(\"Frecuencia_riesgos_x_sector.xlsx\", index=False)"
      ]
    },
    {
      "cell_type": "code",
      "execution_count": 25,
      "metadata": {},
      "outputs": [],
      "source": [
        "# 8.2. RIESGOS MAS FRECUENTES EN CADA SECTOR (FORMATO GRAFICAS)\n",
        "\n",
        "# frecuencia_riesgos_ordenados = frecuencia_riesgos_por_sector\n",
        "\n",
        "# # Obténemos la lista de sectores únicos\n",
        "# sectores_unicos = frecuencia_riesgos_por_sector['nSectorEmp'].unique()\n",
        "\n",
        "# # Iteramos a través de cada sector y creamos una gráfica\n",
        "# for sector in sectores_unicos:\n",
        "#     datos_sector = frecuencia_riesgos_por_sector[frecuencia_riesgos_por_sector['nSectorEmp'] == sector]\n",
        "    \n",
        "#     plt.figure(figsize=(10, 6))  # Ajusta el tamaño de la gráfica\n",
        "#     plt.bar(datos_sector['ixRiesgo'], datos_sector['frecuencia'])\n",
        "#     plt.xlabel('Riesgo')\n",
        "#     plt.ylabel('Frecuencia')\n",
        "#     plt.title(f'Frecuencia de Riesgos en el Sector {sector}')\n",
        "    \n",
        "#     # Agregar el número de riesgo encima de cada barra\n",
        "#     for x, y in zip(datos_sector['ixRiesgo'], datos_sector['frecuencia']):\n",
        "#         plt.text(x, y+5, str(x), fontsize=8, ha='center', va='bottom', rotation='vertical')\n",
        "#     plt.savefig(f'Frecuencia_riesgos_sector_{sector}.png')\n",
        "#     plt.show()  # Muestra la gráfica"
      ]
    },
    {
      "cell_type": "code",
      "execution_count": 26,
      "metadata": {},
      "outputs": [
        {
          "name": "stdout",
          "output_type": "stream",
          "text": [
            "RIESGOS POCO COMUNES EN LAS EVALUACIONES DE LA EMPRESA 0019:\n",
            "- Riesgo 218: Posible exposición, sea consciente o no, a contaminantes biológicos.\n",
            "- Riesgo 104: Quemaduras por contacto con superficies calientes, superficies frías, llama, etc.\n",
            "- Riesgo 106: Contactos con sustancias cáusticas y/o corrosivas\n"
          ]
        }
      ],
      "source": [
        "# 9. RIESGOS QUE APARECEN EN UNA EMPRESA DETERMINADA, \n",
        "# PERO NO ACOSTUMBRAN A OCURRIR (RIESGOS POCO FRECUENTES)\n",
        "# Filtrar datos para la empresa seleccionada\n",
        "empresa_evaluada = '0019'\n",
        "datos_empresa_seleccionada = data[data['sCodCliente'] == empresa_evaluada]\n",
        "\n",
        "# Definir un umbral de frecuencia para considerar un riesgo como poco común\n",
        "umbral_poco_comun = 3  \n",
        "\n",
        "# Obtener la lista de riesgos poco comunes en las evaluaciones de la empresa 1072\n",
        "riesgos_poco_comunes = datos_empresa_seleccionada['ixRiesgo'].value_counts()[datos_empresa_seleccionada['ixRiesgo'].value_counts() < umbral_poco_comun].index\n",
        "\n",
        "# Mostrar la lista de riesgos poco comunes\n",
        "print(\"RIESGOS POCO COMUNES EN LAS EVALUACIONES DE LA EMPRESA {}:\".format(empresa_evaluada))\n",
        "for elemento in riesgos_poco_comunes:\n",
        "    riesgo_poco_comun = obtener_etiq_ixRiesgo(elemento)\n",
        "    print(f\"- Riesgo {elemento}: {riesgo_poco_comun}\")"
      ]
    },
    {
      "cell_type": "code",
      "execution_count": 27,
      "metadata": {},
      "outputs": [
        {
          "name": "stdout",
          "output_type": "stream",
          "text": [
            "Riesgos más comunes en las evaluaciones de la empresa 0019 (orden descendente):\n",
            "- Riesgo 92: Choches contra objetos inmóviles\n",
            "- Riesgo 8: Caída de objetos por desplome o derrumbamiento\n",
            "- Riesgo 9: Tareas que pueden ocasionar caídas a distinto nivel, para las que no es necesario disponer de formación en trabajos en altura.\n",
            "- Riesgo 78: Caídas al mismo nivel por suelos resbaladizos o obstáculos en zonas de paso\n",
            "- Riesgo 154: Mantenimiento de posturas forzadas o estáticas durante el trabajo.\n"
          ]
        }
      ],
      "source": [
        "# 10. RIESGOS MAS COMUNES EN UNA EMPRESA DETERMINADA\n",
        "# Aqui se muestran todos los riesgos que aparecen en una empresa determinada, en orden descendente,\n",
        "# es decir, el riesgo que mas veces se repite aparece en primer lugar y el que menos se repite, en ultimo lugar.\n",
        "empresa_evaluada = '0019'\n",
        "datos_empresa = data[data['sCodCliente'] == empresa_evaluada]\n",
        "\n",
        "# Obtener la lista de riesgos más comunes en las evaluaciones de la empresa 1072 y ordenarla en orden ascendente\n",
        "riesgos_mas_comunes = datos_empresa['ixRiesgo'].value_counts().index\n",
        "\n",
        "# Mostrar la lista de riesgos más comunes en orden ascendente\n",
        "print(\"Riesgos más comunes en las evaluaciones de la empresa {} (orden descendente):\".format(empresa_evaluada))\n",
        "\n",
        "# Definir la cantidad de elementos a mostrar\n",
        "num_riesgos_a_mostrar = 5  # Cambia este valor al número deseado\n",
        "\n",
        "for elemento in riesgos_mas_comunes:\n",
        "    if num_riesgos_a_mostrar > 0:\n",
        "        riesgo_mas_comun = obtener_etiq_ixRiesgo(elemento)\n",
        "        print(f\"- Riesgo {elemento}: {riesgo_mas_comun}\")\n",
        "        num_riesgos_a_mostrar -= 1\n",
        "    else:\n",
        "        break  # Sal del bucle cuando se muestren la cantidad deseada de elementos\n",
        "\n"
      ]
    },
    {
      "cell_type": "markdown",
      "metadata": {},
      "source": [
        "**PASO 3. OBTENCION DE LA SIMILITUD ENTRE UNA EVALUACION DE UNA EMPRESA DETERMINADA Y TODAS LAS EVALUACIONES DE TODAS LAS EMPRESAS DEL MISMO SECTOR**"
      ]
    },
    {
      "cell_type": "markdown",
      "metadata": {},
      "source": [
        "**PASO 3.1. Obtencion de datos**"
      ]
    },
    {
      "cell_type": "code",
      "execution_count": 34,
      "metadata": {},
      "outputs": [
        {
          "name": "stdout",
          "output_type": "stream",
          "text": [
            "La empresa 0019 ha pasado 6 evaluaciones.\n",
            "Las idEvaluacion de las evaluaciones son: [1 2 3 4 5 6]\n",
            "La empresa 0019 pertenece al sector 11\n"
          ]
        }
      ],
      "source": [
        "# SELECCIONE LA EMPRESA QUE DESEA EVALUAR\n",
        "empresa_evaluada = '0019'\n",
        "\n",
        "# EXTRAEMOS INFORMACION DE LA EMPRESA EVALUADA (EVALUACIONES Y SECTOR)\n",
        "# Filtramos todas las evaluaciones de la empresa\n",
        "evaluaciones_empresa = data[data['sCodCliente'] == empresa_evaluada]\n",
        "# Contamos el numero de evaluaciones que ha tenido\n",
        "num_evaluaciones = evaluaciones_empresa['idEvaluacion'].nunique()\n",
        "# Obtenemos la lista de dichas evaluaciones\n",
        "evaluaciones_id = evaluaciones_empresa['idEvaluacion'].unique()\n",
        "\n",
        "# COMPROBAR A QUE SECTOR PERTENECE DICHA EMPRESA\n",
        "# Filtrar el DataFrame para encontrar la fila correspondiente a la empresa de interés\n",
        "empresa_fila = data[data['sCodCliente'] == empresa_evaluada]\n",
        "# Obtener el sector de la empresa de interés\n",
        "sector_de_la_empresa = empresa_fila['nSectorEmp'].iloc[0]\n",
        "\n",
        "# Imprimir la informacion\n",
        "print(\"La empresa {} ha pasado {} evaluaciones.\".format(empresa_evaluada, num_evaluaciones))\n",
        "print(\"Las idEvaluacion de las evaluaciones son:\", evaluaciones_id)\n",
        "print(f\"La empresa {empresa_evaluada} pertenece al sector {sector_de_la_empresa}\")"
      ]
    },
    {
      "cell_type": "code",
      "execution_count": 35,
      "metadata": {},
      "outputs": [
        {
          "name": "stdout",
          "output_type": "stream",
          "text": [
            "Lista de riesgos en la evaluación 6 de la empresa 0019:\n",
            "[1, 2, 3, 257, 5, 6, 7, 8, 9, 135, 258, 259, 260, 16, 144, 23, 24, 153, 154, 31, 48, 53, 54, 55, 56, 58, 62, 66, 78, 92, 93, 104, 233, 106, 234]\n",
            "Longitud lista:  35\n"
          ]
        }
      ],
      "source": [
        "# OBTENCION DE LA LISTA DE RIESGOS DE LA EMPRESA SELECCIONADA \n",
        "# EN 1 EVALUACION DETERMINADA\n",
        "codigo_evaluacion = 6  # idEvaluacion      \n",
        "\n",
        "# Filtramos los datos de la empresa seleccionada \n",
        "datos_empresa_evaluada = data[(data['sCodCliente'] == empresa_evaluada) &\n",
        "                              (data['idEvaluacion'] == codigo_evaluacion)]\n",
        "\n",
        "# Obtenemos la lista de riesgos (ixRiesgo) en dicha evaluacion y eliminamos duplicados\n",
        "lista_riesgos_empresa_evaluada = list(set(datos_empresa_evaluada['ixRiesgo']))\n",
        "\n",
        "# Imprimir las listas de riesgos\n",
        "print(\"Lista de riesgos en la evaluación {} de la empresa {}:\".format(codigo_evaluacion, empresa_evaluada))\n",
        "print(lista_riesgos_empresa_evaluada)\n",
        "print(\"Longitud lista: \", len(lista_riesgos_empresa_evaluada))"
      ]
    },
    {
      "cell_type": "code",
      "execution_count": 36,
      "metadata": {},
      "outputs": [
        {
          "name": "stdout",
          "output_type": "stream",
          "text": [
            "Lista de riesgos del sector 11\n",
            "[218   2   8   9  53  55  66  78  92 153 154  23   1  24  54   3 259 222\n",
            "   6  31  67 233  42  49  47 135 234  26  64 140 142 240  52 104 106  12\n",
            "  13  14 255  69 260   7  56  58  62  71  16  48 261   5  68  93 258 257\n",
            "  57 144 133  30  37  39  43  50  59 223 242 230 241 254 256  25  20  29\n",
            "  80 115   4  15  36  17  77 148 170]\n",
            "Longitud:  81\n"
          ]
        }
      ],
      "source": [
        "# OBTENCION DE TODOS LOS RIESGOS DE TODAS LAS EVALUACIONES DE TODAS LAS EMPRESAS DEL MISMO SECTOR\n",
        "# Filtrar el DataFrame para obtener los datos del sector deseado\n",
        "datos_sector = data[data['nSectorEmp'] == sector_de_la_empresa]\n",
        "\n",
        "# Obtenemos la lista de riesgos de todas las evaluaciones de todas las empresas del sector\n",
        "lista_riesgos_todas_eval_sector = datos_sector['ixRiesgo'].unique()\n",
        "\n",
        "# Imprimir la lista de riesgos\n",
        "print(\"Lista de riesgos del sector\", sector_de_la_empresa)\n",
        "print(lista_riesgos_todas_eval_sector)\n",
        "print(\"Longitud: \", len(lista_riesgos_todas_eval_sector))"
      ]
    },
    {
      "cell_type": "markdown",
      "metadata": {},
      "source": [
        "**PASO 3.2. Normalizacion de datos**"
      ]
    },
    {
      "cell_type": "code",
      "execution_count": 37,
      "metadata": {},
      "outputs": [
        {
          "name": "stdout",
          "output_type": "stream",
          "text": [
            "lista1_normalizada (lista_riesgos_empresa_evaluada):  [1, 2, 3, 0, 5, 6, 7, 8, 9, 0, 0, 0, 0, 0, 0, 16, 0, 0, 0, 0, 0, 0, 23, 24, 0, 0, 0, 0, 0, 0, 31, 0, 0, 0, 0, 0, 0, 0, 0, 0, 0, 0, 0, 0, 0, 0, 0, 48, 0, 0, 0, 0, 53, 54, 55, 56, 0, 58, 0, 0, 0, 62, 0, 0, 0, 66, 0, 0, 0, 0, 0, 0, 0, 0, 0, 0, 0, 78, 0, 0, 0, 0, 0, 0, 0, 0, 0, 0, 0, 0, 0, 92, 93, 0, 0, 0, 0, 0, 0, 0, 0, 0, 0, 104, 0, 106, 0, 0, 0, 0, 0, 0, 0, 0, 0, 0, 0, 0, 0, 0, 0, 0, 0, 0, 0, 0, 0, 0, 0, 0, 0, 0, 0, 0, 135, 0, 0, 0, 0, 0, 0, 0, 0, 144, 0, 0, 0, 0, 0, 0, 0, 0, 153, 154, 0, 0, 0, 0, 0, 0, 0, 0, 0, 0, 0, 0, 0, 0, 0, 0, 0, 0, 0, 0, 0, 0, 0, 0, 0, 0, 0, 0, 0, 0, 0, 0, 0, 0, 0, 0, 0, 0, 0, 0, 0, 0, 0, 0, 0, 0, 0, 0, 0, 0, 0, 0, 0, 0, 0, 0, 0, 0, 0, 0, 0, 0, 0, 0, 0, 0, 0, 0, 0, 0, 0, 0, 0, 0, 0, 0, 0, 0, 233, 234, 0, 0, 0, 0, 0, 0, 0, 0, 0, 0, 0, 0, 0, 0, 0, 0, 0, 0, 0, 0, 0, 0, 257, 258, 259, 260, 0]\n",
            "lista2_normalizada (lista_riesgos_todas_eval_sector): [1, 2, 3, 4, 5, 6, 7, 8, 9, 0, 0, 12, 13, 14, 15, 16, 17, 0, 0, 20, 0, 0, 23, 24, 25, 26, 0, 0, 29, 30, 31, 0, 0, 0, 0, 36, 37, 0, 39, 0, 0, 42, 43, 0, 0, 0, 47, 48, 49, 50, 0, 52, 53, 54, 55, 56, 57, 58, 59, 0, 0, 62, 0, 64, 0, 66, 67, 68, 69, 0, 71, 0, 0, 0, 0, 0, 77, 78, 0, 80, 0, 0, 0, 0, 0, 0, 0, 0, 0, 0, 0, 92, 93, 0, 0, 0, 0, 0, 0, 0, 0, 0, 0, 104, 0, 106, 0, 0, 0, 0, 0, 0, 0, 0, 115, 0, 0, 0, 0, 0, 0, 0, 0, 0, 0, 0, 0, 0, 0, 0, 0, 0, 133, 0, 135, 0, 0, 0, 0, 140, 0, 142, 0, 144, 0, 0, 0, 148, 0, 0, 0, 0, 153, 154, 0, 0, 0, 0, 0, 0, 0, 0, 0, 0, 0, 0, 0, 0, 0, 170, 0, 0, 0, 0, 0, 0, 0, 0, 0, 0, 0, 0, 0, 0, 0, 0, 0, 0, 0, 0, 0, 0, 0, 0, 0, 0, 0, 0, 0, 0, 0, 0, 0, 0, 0, 0, 0, 0, 0, 0, 0, 0, 0, 0, 0, 0, 0, 218, 0, 0, 0, 222, 223, 0, 0, 0, 0, 0, 0, 230, 0, 0, 233, 234, 0, 0, 0, 0, 0, 240, 241, 242, 0, 0, 0, 0, 0, 0, 0, 0, 0, 0, 0, 254, 255, 256, 257, 258, 259, 260, 261]\n",
            "Longitud lista 1: 261\n",
            "Longitud lista 2: 261\n"
          ]
        }
      ],
      "source": [
        "# NORMALIZACION DE LAS LISTAS\n",
        "# Listas de ejemplo (antes de la normalizacion):\n",
        "# lista1_original = [1,2,3,4,11,5,6,7]\n",
        "# lista2_original = [1,16,3,4,5,7]\n",
        "# Resultado (despues de la normalizacion):\n",
        "# lista1_normalizada: [1, 2, 3, 4, 5, 6, 7, 0, 0, 0, 11, 0, 0, 0, 0, 0]\n",
        "# lista2_normalizada: [1, 0, 3, 4, 5, 0, 7, 0, 0, 0, 0, 0, 0, 0, 0, 16]\n",
        "# Numero de elementos de ambas listas igual al numero mayor de las dos listas en conjunto \n",
        "# y un 0 en aquellos lugares que no tienen elemento repetido en ambas listas.\n",
        "# --------------------------------------------------------------------------------------------\n",
        "# Buscamos el número mayor entre ambas listas\n",
        "numero_mayor = max(max(lista_riesgos_empresa_evaluada), max(lista_riesgos_todas_eval_sector))\n",
        "\n",
        "# Llenamos ambas listas con ceros en las posiciones correspondientes\n",
        "lista1_normalizada = [0 if i not in lista_riesgos_empresa_evaluada else i for i in range(1, numero_mayor + 1)]\n",
        "lista2_normalizada = [0 if i not in lista_riesgos_todas_eval_sector else i for i in range(1, numero_mayor + 1)]\n",
        "\n",
        "# Observamos el resultado\n",
        "print(\"lista1_normalizada (lista_riesgos_empresa_evaluada): \", lista1_normalizada)\n",
        "print(\"lista2_normalizada (lista_riesgos_todas_eval_sector):\", lista2_normalizada)\n",
        "print(\"Longitud lista 1:\", len(lista1_normalizada))\n",
        "print(\"Longitud lista 2:\", len(lista2_normalizada))"
      ]
    },
    {
      "cell_type": "markdown",
      "metadata": {},
      "source": [
        "**PASO 3.3. Aplicacion del algoritmo cosine_similarity()**\n",
        "\n",
        "Comparamos ambas listas, la lista de riesgos de la empresa evaluada (lista 1) \n",
        "y la lista de riesgos de todo un sector (lista 2), ambas ya normalizadas, y aplicando el algoritmo obtenemos el indice de similitud entre la empresa evaluada y las demas empresas del mismo sector"
      ]
    },
    {
      "cell_type": "code",
      "execution_count": 38,
      "metadata": {},
      "outputs": [
        {
          "name": "stdout",
          "output_type": "stream",
          "text": [
            "El porcentaje de similitud entre la evaluacion 6 de la empresa 0019\n",
            "y las demas evaluaciones del sector 11 es del 62.8%\n",
            "La evaluacion ha sido CORRECTA\n"
          ]
        }
      ],
      "source": [
        "# CALCULO DE LA SIMILITUD DEL COSENO ENTRE LAS DOS LISTAS YA NORMALIZADAS\n",
        "# ----------------------------------\n",
        "# LISTAS DE EJEMPLO PARA PROBAR EL ALGORITMO. \n",
        "# Habilite cualquiera de los 3 ejemplos y vea el resultado\n",
        "\n",
        "# Ejemplo 1. Listas iguales (100% de similitud)\n",
        "# lista1_normalizada = [1,2,3,4,5]\n",
        "# lista2_normalizada = [1,2,3,4,5]\n",
        "\n",
        "# Ejemplo 2. Listas parecidas (~50%)\n",
        "# lista1_normalizada = [1,2,3,4,5]\n",
        "# lista2_normalizada = [1,2,3,0,0]\n",
        "\n",
        "# Ejemplo 3. Listas distintas (0% de similitud)\n",
        "# lista1_normalizada = [1,2,3,4,5]\n",
        "# lista2_normalizada = [0,0,0,0,0]\n",
        "# ----------------------------------\n",
        "\n",
        "# Listas reales que vamos a comparar\n",
        "lista_riesgos_empresa_evaluada = np.array(lista1_normalizada)\n",
        "lista_riesgos_todas_eval_sector = np.array(lista2_normalizada)\n",
        "\n",
        "# Adaptamos las listas a la dimension correcta \n",
        "lista_riesgos_empresa_evaluada = lista_riesgos_empresa_evaluada.reshape(1, -1)\n",
        "lista_riesgos_todas_eval_sector = lista_riesgos_todas_eval_sector.reshape(1, -1)\n",
        "\n",
        "# Calculamos la similitud del coseno\n",
        "similitud = cosine_similarity(lista_riesgos_empresa_evaluada, lista_riesgos_todas_eval_sector) \n",
        "\n",
        "# Escalamos la similitud obtenida a un rango de 0% a 100%\n",
        "porcentaje_similitud = round((similitud[0][0]) * 100, 1)\n",
        "\n",
        "# Y por ultimo, mostramos el resultado final.\n",
        "print(\"El porcentaje de similitud entre la evaluacion {} de la empresa {}\\ny las demas evaluaciones del sector {} es del {}%\".format(codigo_evaluacion, empresa_evaluada, sector_de_la_empresa, porcentaje_similitud))\n",
        "\n",
        "umbral_satisfactorio = 50 # A partir de que porcentaje se considera correcta la evaluacion\n",
        "if porcentaje_similitud >= umbral_satisfactorio:\n",
        "    print(\"La evaluacion ha sido CORRECTA\")\n",
        "else:\n",
        "    print(\"La evaluacion ha sido INCORRECTA\")"
      ]
    }
  ],
  "metadata": {
    "colab": {
      "provenance": []
    },
    "kernelspec": {
      "display_name": "Python 3",
      "name": "python3"
    },
    "language_info": {
      "codemirror_mode": {
        "name": "ipython",
        "version": 3
      },
      "file_extension": ".py",
      "mimetype": "text/x-python",
      "name": "python",
      "nbconvert_exporter": "python",
      "pygments_lexer": "ipython3",
      "version": "3.11.4"
    }
  },
  "nbformat": 4,
  "nbformat_minor": 0
}
